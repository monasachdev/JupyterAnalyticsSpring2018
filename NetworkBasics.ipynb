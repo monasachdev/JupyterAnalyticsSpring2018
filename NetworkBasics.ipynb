{
 "cells": [
  {
   "cell_type": "markdown",
   "metadata": {},
   "source": [
    "<p style=\"text-align:center\">\n",
    "PSY 394U <b>Data Analytics with Python</b>, Spring 2018\n",
    "\n",
    "\n",
    "<img style=\"width: 400px; padding: 0px;\" src=\"https://github.com/sathayas/JupyterAnalyticsSpring2018/blob/master/images/Title_pics.png?raw=true\" alt=\"title pics\"/>\n",
    "\n",
    "</p>\n",
    "\n",
    "<p style=\"text-align:center; font-size:40px; margin-bottom: 30px;\"><b> Network data basics </b></p>\n",
    "\n",
    "<p style=\"text-align:center; font-size:18px; margin-bottom: 32px;\"><b>March 22, 2018</b></p>\n",
    "\n",
    "<hr style=\"height:5px;border:none\" />"
   ]
  },
  {
   "cell_type": "markdown",
   "metadata": {},
   "source": [
    "# 1. What is a network?\n",
    "<hr style=\"height:1px;border:none\" />\n",
    "\n",
    "A network consists of a collection of:\n",
    "\n",
    "  * **Nodes**: Also known as *vertices*. Nodes represent individual units. A node can be a person (in a social network), a gene (in a gene expression network), a computer server (in a computer network), etc.\n",
    "  * **Edges**: Also known as *arcs* or *connections*. Edges represent relationships between units. An edge can be a friendship between people (in a social network), a gene-gene association (in a gene expression network), a cable (in a computer network), etc.\n",
    "\n",
    "<img style=\"width: 200px; padding: 0px;\" src=\"https://github.com/sathayas/JupyterAnalyticsSpring2018/blob/master/images/Title_Graph.png?raw=true\" alt=\"Sample network\"/>\n",
    "\n",
    "\n",
    "\n",
    "**Network data** describe relationships among individuals. A network is also referred as a **graph**. To examine properties of networks, we use methods based on a branch of mathematics known as *graph theory*.\n",
    "\n",
    "## Simple example\n",
    "\n",
    "The **networkX** library has a number of utilities that are useful in handling network data. To demonstrate, let us start out with a simple network."
   ]
  },
  {
   "cell_type": "markdown",
   "metadata": {},
   "source": [
    "`<SimpleGraph.py>`"
   ]
  },
  {
   "cell_type": "code",
   "execution_count": 2,
   "metadata": {
    "collapsed": true
   },
   "outputs": [],
   "source": [
    "%matplotlib inline"
   ]
  },
  {
   "cell_type": "code",
   "execution_count": 3,
   "metadata": {
    "collapsed": true
   },
   "outputs": [],
   "source": [
    "import networkx as nx\n",
    "import matplotlib.pyplot as plt\n",
    "\n",
    "# first, creating a graph\n",
    "G=nx.Graph()"
   ]
  },
  {
   "cell_type": "markdown",
   "metadata": {},
   "source": [
    "The function **`Graph`** under **`networkx`** creates a graph object. It is a network containing nodes and edges. Right now, it is empty since we just created. So let's add some nodes."
   ]
  },
  {
   "cell_type": "code",
   "execution_count": 4,
   "metadata": {
    "collapsed": true
   },
   "outputs": [],
   "source": [
    "# adding nodes\n",
    "G.add_node(1)  # single node\n",
    "G.add_nodes_from([2,3])  # multiple nodes\n",
    "G.add_nodes_from(list(range(3,8)))\n",
    "G.add_node('Boss')"
   ]
  },
  {
   "cell_type": "markdown",
   "metadata": {},
   "source": [
    "To add a single node, you can use the **`add_node`** method associated with the graph object **`G`**. To add multiple nodes at once, we can add **`add_nodes_from`** method. A node can have a numerical label or a string label when created. To get a list of nodes in `G`, you can use **`nodes()`** method."
   ]
  },
  {
   "cell_type": "code",
   "execution_count": 5,
   "metadata": {},
   "outputs": [
    {
     "name": "stdout",
     "output_type": "stream",
     "text": [
      "[1, 2, 3, 4, 5, 6, 7, 'Boss']\n"
     ]
    }
   ],
   "source": [
    "# a list of nodes\n",
    "print(G.nodes())"
   ]
  },
  {
   "cell_type": "markdown",
   "metadata": {},
   "source": [
    "Now that we have some nodes, we can introduce edges by connecting some of the nodes. To add a single edge, you can use the **`add_edge`** method associated with `G`. You can use multiple edges at once by using the **`add_edges_from`** method. "
   ]
  },
  {
   "cell_type": "code",
   "execution_count": 6,
   "metadata": {
    "collapsed": true
   },
   "outputs": [],
   "source": [
    "# adding edges\n",
    "G.add_edge(1,2)  # single edge\n",
    "G.add_edges_from([(1,2),(1,3),(5,7)])  # multiple edges"
   ]
  },
  {
   "cell_type": "markdown",
   "metadata": {},
   "source": [
    "We can also do some creative stuff. We can connect nodes (1,2), (2,3), (3,4) and so on."
   ]
  },
  {
   "cell_type": "code",
   "execution_count": 7,
   "metadata": {
    "collapsed": true
   },
   "outputs": [],
   "source": [
    "for iEdge in range(1,7):\n",
    "    G.add_edge(iEdge,iEdge+1)"
   ]
  },
  {
   "cell_type": "markdown",
   "metadata": {},
   "source": [
    "If some edges already exist (e.g., (1,2)), then `add_edge` and `add_edges_from` do not alter existing edges. You can use **`nodes()`** to iterate over nodes in a `for` loop too. Here, we are making connections between the `Boss` node with all the other nodes. "
   ]
  },
  {
   "cell_type": "code",
   "execution_count": 8,
   "metadata": {
    "collapsed": true
   },
   "outputs": [],
   "source": [
    "for i in G.nodes():\n",
    "    if i!='Boss':\n",
    "        G.add_edge('Boss',i)"
   ]
  },
  {
   "cell_type": "markdown",
   "metadata": {},
   "source": [
    "To get a list of edges in `G`, you can use the **`edges()`** method."
   ]
  },
  {
   "cell_type": "code",
   "execution_count": 10,
   "metadata": {},
   "outputs": [
    {
     "name": "stdout",
     "output_type": "stream",
     "text": [
      "[(1, 2), (1, 3), (1, 'Boss'), (2, 3), (2, 'Boss'), (3, 4), (3, 'Boss'), (4, 5), (4, 'Boss'), (5, 'Boss'), (5, 6), (5, 7), (6, 'Boss'), (6, 7), (7, 'Boss')]\n"
     ]
    }
   ],
   "source": [
    "# a list of edges\n",
    "print(G.edges())"
   ]
  },
  {
   "cell_type": "markdown",
   "metadata": {},
   "source": [
    "Note that edges in `G` does not have a particular direction. If you want to ascribe the directionality information to edges (e.g., Boss to all employees), then you need to create a *digraph* (directed graph). Digraphs are beyond the scope of this course. Interested students should consult the networkX documentation. \n",
    "\n",
    "Say, if you are interested in connections originating from a certain node. Then you can do"
   ]
  },
  {
   "cell_type": "code",
   "execution_count": 11,
   "metadata": {},
   "outputs": [
    {
     "name": "stdout",
     "output_type": "stream",
     "text": [
      "{1: {}, 2: {}, 3: {}, 4: {}, 5: {}, 6: {}, 7: {}}\n"
     ]
    }
   ],
   "source": [
    "# which nodes is Boss connected to\n",
    "print(G['Boss'])"
   ]
  },
  {
   "cell_type": "code",
   "execution_count": 12,
   "metadata": {},
   "outputs": [
    {
     "name": "stdout",
     "output_type": "stream",
     "text": [
      "{1: {}, 2: {}, 4: {}, 'Boss': {}}\n"
     ]
    }
   ],
   "source": [
    "# how about node 3\n",
    "print(G[3])"
   ]
  },
  {
   "cell_type": "markdown",
   "metadata": {},
   "source": [
    "Now we have a graph `G` with some nodes and edges, we can visualize the graph. The **`draw`** function produces a graph. "
   ]
  },
  {
   "cell_type": "code",
   "execution_count": 14,
   "metadata": {},
   "outputs": [
    {
     "data": {
      "image/png": "[encoded data removed]",
      "text/plain": [
       "<matplotlib.figure.Figure at 0x10a4e4160>"
      ]
     },
     "metadata": {},
     "output_type": "display_data"
    }
   ],
   "source": [
    "# drawing the graph\n",
    "nx.draw(G, with_labels=True)\n",
    "plt.show()"
   ]
  },
  {
   "cell_type": "markdown",
   "metadata": {},
   "source": [
    "In this network, say Boss have to communicate some of the employees more often. We want our network to reflect that."
   ]
  },
  {
   "cell_type": "markdown",
   "metadata": {},
   "source": [
    "* Simple stuff: nodes & edges\n",
    "* Drawing\n",
    "* Weighted network\n",
    "* Drawing nodes, edges, and labels separately\n",
    "* Simple network construction (co-worker network)\n",
    "    * Exercise: adding nodes & edges\n",
    "    * Exercise: drawing graph\n",
    "* File formats\n",
    "    * very brief\n",
    "* Example networks\n",
    "* Exercise: Large network construction\n",
    "    * Co-authorship\n",
    "    * Airline network\n",
    "    * Brain network\n"
   ]
  }
 ],
 "metadata": {
  "kernelspec": {
   "display_name": "Python 3",
   "language": "python",
   "name": "python3"
  },
  "language_info": {
   "codemirror_mode": {
    "name": "ipython",
    "version": 3
   },
   "file_extension": ".py",
   "mimetype": "text/x-python",
   "name": "python",
   "nbconvert_exporter": "python",
   "pygments_lexer": "ipython3",
   "version": "3.5.1"
  }
 },
 "nbformat": 4,
 "nbformat_minor": 2
}
