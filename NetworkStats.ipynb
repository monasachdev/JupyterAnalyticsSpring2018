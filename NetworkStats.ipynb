{
 "cells": [
  {
   "cell_type": "markdown",
   "metadata": {},
   "source": [
    "<p style=\"text-align:center\">\n",
    "PSY 394U <b>Data Analytics with Python</b>, Spring 2018\n",
    "\n",
    "\n",
    "<img style=\"width: 400px; padding: 0px;\" src=\"https://github.com/sathayas/JupyterAnalyticsSpring2018/blob/master/images/Title_pics.png?raw=true\" alt=\"title pics\"/>\n",
    "\n",
    "</p>\n",
    "\n",
    "<p style=\"text-align:center; font-size:40px; margin-bottom: 30px;\"><b> Network statistics </b></p>\n",
    "\n",
    "<p style=\"text-align:center; font-size:18px; margin-bottom: 32px;\"><b>March 29, 2018</b></p>\n",
    "\n",
    "<hr style=\"height:5px;border:none\" />"
   ]
  },
  {
   "cell_type": "markdown",
   "metadata": {},
   "source": [
    "# 1. How big is a network?\n",
    "<hr style=\"height:1px;border:none\" />\n",
    "\n",
    "## Number of nodes and edges\n",
    "The size of a network can be easily summarized by the numbers of nodes and edges. Here, we call them $n$ and $m$. These quantities can be easily calculated by the **`len()`** function on **`.nodes()`** and **`.edges()`** methods associated with a graph. Here are two examples. \n",
    "  * **`G_karate`**: From **`karate.gml`**, Zachary's karate club network\n",
    "  * **`G_netsci`**: From **`netscience.gml`**, network science co-authorship network\n",
    "\n",
    "*Both data sets are available from [Mark Newman](http://www-personal.umich.edu/~mejn/netdata/)*"
   ]
  },
  {
   "cell_type": "markdown",
   "metadata": {},
   "source": [
    "`<NetSize.py>`"
   ]
  },
  {
   "cell_type": "code",
   "execution_count": 2,
   "metadata": {},
   "outputs": [
    {
     "name": "stdout",
     "output_type": "stream",
     "text": [
      "Network sizes\n",
      "Zachary's karate network, n:34\n",
      "Zachary's karate network, m:78\n",
      "Network science co-authorship network, n:1589\n",
      "Network science co-authorship network, m:2742\n"
     ]
    }
   ],
   "source": [
    "import networkx as nx\n",
    "import numpy as np\n",
    "\n",
    "# loading network data\n",
    "G_karate = nx.read_gml('karate.gml', label='id')  # Karate network\n",
    "G_netsci = nx.read_gml('netscience.gml')  # network science co-authorship\n",
    "\n",
    "\n",
    "# Network sizes\n",
    "print('Network sizes')\n",
    "print(\"Zachary's karate network, n:\", len(G_karate.nodes()), sep='')\n",
    "print(\"Zachary's karate network, m:\", len(G_karate.edges()), sep='')\n",
    "\n",
    "print(\"Network science co-authorship network, n:\",\n",
    "      len(G_netsci.nodes()), sep='')\n",
    "print(\"Network science co-authorship network, m:\",\n",
    "      len(G_netsci.edges()), sep='')\n"
   ]
  },
  {
   "cell_type": "markdown",
   "metadata": {},
   "source": [
    "## Giant component size\n",
    "\n",
    "In a network data set, there is no guarantee that all nodes are connected as a single network. It is plausible that some nodes are disconnected from other nodes. Thus, in addition to network sizes, we can also examine the size of the giant component, or the number of nodes included in the largest connected component in the data set. Unfortunately there isn't a straightforward approach to calculate the giant component size in `networkx`. We will use a function **`connected_component_subgraphs`**, which returns a generator of connected subcomponents of the network data. A generator provides a sequence of items you can use in a `for` loop. We first generate a list of connected component sizes, then find the max as the giant component size."
   ]
  },
  {
   "cell_type": "code",
   "execution_count": 3,
   "metadata": {},
   "outputs": [
    {
     "name": "stdout",
     "output_type": "stream",
     "text": [
      "Giant component sizes\n",
      "Zachary's karate network, GC:34\n",
      "Network science co-authorship network, GC:379\n"
     ]
    }
   ],
   "source": [
    "# Giant component sizes\n",
    "print('Giant component sizes')\n",
    "listCC_karate = [len(G.nodes()) for G in nx.connected_component_subgraphs(G_karate)]\n",
    "listCC_netsci = [len(G.nodes()) for G in nx.connected_component_subgraphs(G_netsci)]\n",
    "print(\"Zachary's karate network, GC:\", max(listCC_karate), sep='')\n",
    "print(\"Network science co-authorship network, GC:\",\n",
    "      max(listCC_netsci), sep='')"
   ]
  },
  {
   "cell_type": "markdown",
   "metadata": {},
   "source": [
    "As you can see, the karate network includes all nodes as part of the giant component, whereas the network science network only includes a fraction of all available nodes as part of the giant component."
   ]
  },
  {
   "cell_type": "markdown",
   "metadata": {},
   "source": [
    "### Exercise\n",
    "The following network data sets are available for you:"
   ]
  },
  {
   "cell_type": "markdown",
   "metadata": {},
   "source": [
    "* Metrics\n",
    "   * Size metrics (nodes, edges)\n",
    "   * Giant component\n",
    "   * Connectivity metrics (degree, assortativity)\n",
    "      * Scale-free\n",
    "   * Distance metrics (path lengths, diameter)\n",
    "   * Clustering metrics (clustering coefficient)\n",
    "   * Small-world\n",
    "* Random deletion vs targeted attack\n"
   ]
  },
  {
   "cell_type": "code",
   "execution_count": null,
   "metadata": {
    "collapsed": true
   },
   "outputs": [],
   "source": []
  }
 ],
 "metadata": {
  "kernelspec": {
   "display_name": "Python 3",
   "language": "python",
   "name": "python3"
  },
  "language_info": {
   "codemirror_mode": {
    "name": "ipython",
    "version": 3
   },
   "file_extension": ".py",
   "mimetype": "text/x-python",
   "name": "python",
   "nbconvert_exporter": "python",
   "pygments_lexer": "ipython3",
   "version": "3.5.1"
  }
 },
 "nbformat": 4,
 "nbformat_minor": 2
}
