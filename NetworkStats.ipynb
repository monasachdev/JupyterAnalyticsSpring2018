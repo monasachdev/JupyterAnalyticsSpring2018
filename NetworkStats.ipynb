{
 "cells": [
  {
   "cell_type": "markdown",
   "metadata": {},
   "source": [
    "<p style=\"text-align:center\">\n",
    "PSY 394U <b>Data Analytics with Python</b>, Spring 2018\n",
    "\n",
    "\n",
    "<img style=\"width: 400px; padding: 0px;\" src=\"https://github.com/sathayas/JupyterAnalyticsSpring2018/blob/master/images/Title_pics.png?raw=true\" alt=\"title pics\"/>\n",
    "\n",
    "</p>\n",
    "\n",
    "<p style=\"text-align:center; font-size:40px; margin-bottom: 30px;\"><b> Network statistics </b></p>\n",
    "\n",
    "<p style=\"text-align:center; font-size:18px; margin-bottom: 32px;\"><b>March 29, 2018</b></p>\n",
    "\n",
    "<hr style=\"height:5px;border:none\" />"
   ]
  },
  {
   "cell_type": "markdown",
   "metadata": {},
   "source": [
    "# 1. How big is a network?\n",
    "<hr style=\"height:1px;border:none\" />\n",
    "\n",
    "## Number of nodes and edges\n",
    "The size of a network can be easily summarized by the numbers of nodes and edges. Here, we call them $n$ and $m$. These quantities can be easily calculated by the **`len()`** function on **`.nodes()`** and **`.edges()`** methods associated with a graph. Here are two examples. \n",
    "  * **`G_karate`**: From **`karate.gml`**, Zachary's karate club network\n",
    "  * **`G_netsci`**: From **`netscience.gml`**, network science co-authorship network\n",
    "\n",
    "*Both data sets are available from [Mark Newman](http://www-personal.umich.edu/~mejn/netdata/)*"
   ]
  },
  {
   "cell_type": "markdown",
   "metadata": {},
   "source": [
    "`<NetSize.py>`"
   ]
  },
  {
   "cell_type": "code",
   "execution_count": 1,
   "metadata": {},
   "outputs": [
    {
     "name": "stdout",
     "output_type": "stream",
     "text": [
      "Network sizes\n",
      "Zachary's karate network, n:34\n",
      "Zachary's karate network, m:78\n",
      "Network science co-authorship network, n:1589\n",
      "Network science co-authorship network, m:2742\n"
     ]
    }
   ],
   "source": [
    "import networkx as nx\n",
    "import numpy as np\n",
    "\n",
    "# loading network data\n",
    "G_karate = nx.read_gml('karate.gml', label='id')  # Karate network\n",
    "G_netsci = nx.read_gml('netscience.gml')  # network science co-authorship\n",
    "\n",
    "\n",
    "# Network sizes\n",
    "print('Network sizes')\n",
    "print(\"Zachary's karate network, n:\", len(G_karate.nodes()), sep='')\n",
    "print(\"Zachary's karate network, m:\", len(G_karate.edges()), sep='')\n",
    "\n",
    "print(\"Network science co-authorship network, n:\",\n",
    "      len(G_netsci.nodes()), sep='')\n",
    "print(\"Network science co-authorship network, m:\",\n",
    "      len(G_netsci.edges()), sep='')\n"
   ]
  },
  {
   "cell_type": "markdown",
   "metadata": {},
   "source": [
    "## Giant component size\n",
    "\n",
    "In a network data set, there is no guarantee that all nodes are connected as a single network. It is plausible that some nodes are disconnected from other nodes. Thus, in addition to network sizes, we can also examine the size of the giant component, or the number of nodes included in the largest connected component in the data set. Unfortunately there isn't a straightforward approach to calculate the giant component size in `networkx`. We will use a function **`connected_component_subgraphs`**, which returns a generator of connected subcomponents of the network data. We need to sort the components by **`sorted`** function, according to the number of nodes in these components (thus **`key = len`**), in the reverse order (**`reverse=True`**). We are only interested in the number of nodes in the giant component."
   ]
  },
  {
   "cell_type": "code",
   "execution_count": 3,
   "metadata": {},
   "outputs": [
    {
     "name": "stdout",
     "output_type": "stream",
     "text": [
      "Giant component sizes\n",
      "Zachary's karate network, GC:34\n",
      "Network science co-authorship network, GC:379\n",
      "\n"
     ]
    }
   ],
   "source": [
    "# Giant component sizes\n",
    "print('Giant component sizes')\n",
    "GC_karate = len(sorted(nx.connected_components(G_karate), key = len, reverse=True)[0])\n",
    "GC_netsci = len(sorted(nx.connected_components(G_netsci), key = len, reverse=True)[0])\n",
    "print(\"Zachary's karate network, GC:\", GC_karate, sep='')\n",
    "print(\"Network science co-authorship network, GC:\",\n",
    "      GC_netsci, sep='')"
   ]
  },
  {
   "cell_type": "markdown",
   "metadata": {},
   "source": [
    "Or it may be easier to interpret the relative giant component size, the giant component size relative to all available nodes. "
   ]
  },
  {
   "cell_type": "code",
   "execution_count": 4,
   "metadata": {},
   "outputs": [
    {
     "name": "stdout",
     "output_type": "stream",
     "text": [
      "Relative giant component sizes\n",
      "Zachary's karate network, GC: 1.00\n",
      "Network science co-authorship network, GC: 0.24\n"
     ]
    }
   ],
   "source": [
    "# Relative giant component sizes\n",
    "rGC_karate = GC_karate/len(G_karate.nodes())\n",
    "rGC_netsci = GC_netsci/len(G_netsci.nodes())\n",
    "print('Relative giant component sizes')\n",
    "print('Zachary\\'s karate network, GC: %4.2f' % rGC_karate)\n",
    "print(\"Network science co-authorship network, GC: %4.2f\" % rGC_netsci)"
   ]
  },
  {
   "cell_type": "markdown",
   "metadata": {},
   "source": [
    "As you can see, the karate network includes all nodes as part of the giant component, whereas the network science network only includes 24% of all available nodes as part of the giant component."
   ]
  },
  {
   "cell_type": "markdown",
   "metadata": {},
   "source": [
    "### Exercise\n",
    "1. **Network size table**. The following network data sets are available for you:\n",
    "  * Les Miserable interaction network - **`lesmis.gml`**\n",
    "  * NCAA college football network - **`football.gml`**\n",
    "  * S&P500 stock price correlation network - **`SP500.gexf`**\n",
    "  * Facebook sample network - **`facebook_combined.edgelist`**\n",
    "  * Western US power grid - **`power.gml`**\n",
    "  * High-res fMRI connectivity network - **`fMRI_HighRes.adjlist`**\n",
    "\n",
    "And here is a code snippet to read all these data sets"
   ]
  },
  {
   "cell_type": "code",
   "execution_count": 5,
   "metadata": {
    "collapsed": true
   },
   "outputs": [],
   "source": [
    "import networkx as nx\n",
    "import numpy as np\n",
    "\n",
    "# loading network data\n",
    "G_LesMis = nx.read_gml('lesmis.gml')  # Les Miserables\n",
    "G_football = nx.read_gml('football.gml')  # Football network\n",
    "G_SP500 = nx.read_gexf('SP500.gexf')  # S&P500\n",
    "G_facebook = nx.read_edgelist('facebook_combined.edgelist')  # facebook\n",
    "G_power = nx.read_gml('power.gml', label='id')  # power grid"
   ]
  },
  {
   "cell_type": "markdown",
   "metadata": {},
   "source": [
    "Your goal is to fill in the numbers that are missing in the table below. *You can just post the numbers, not the code, on Canvas discussion*.\n",
    "\n",
    "<table>\n",
    "<tr>\n",
    "<th style=\"text-align:left\">Network</th>\n",
    "<th style=\"text-align:center\">Nodes</th>\n",
    "<th style=\"text-align:center\">Edges</th>\n",
    "<th style=\"text-align:center\">Relative GC size</th>\n",
    "</tr>\n",
    "<tr>\n",
    "<td style=\"text-align:left\">Les Miserables</td>\n",
    "<td style=\"text-align:center\"><b style=\"color:red;\">(a)</b></td>\n",
    "<td style=\"text-align:center\">254</td>\n",
    "<td style=\"text-align:center\">1.00</tr>\n",
    "</tr>\n",
    "<tr>\n",
    "<td style=\"text-align:left\">NCAA football</td>\n",
    "<td style=\"text-align:center\">115</td>\n",
    "<td style=\"text-align:center\">613</td>\n",
    "<td style=\"text-align:center\"><b style=\"color:red;\">(b)</b></tr>\n",
    "</tr>\n",
    "<tr>\n",
    "<td style=\"text-align:left\">S&P 500</td>\n",
    "<td style=\"text-align:center\">491</td>\n",
    "<td style=\"text-align:center\"><b style=\"color:red;\">(c)</b></td>\n",
    "<td style=\"text-align:center\">1.00</tr>\n",
    "</tr>\n",
    "<tr>\n",
    "<td style=\"text-align:left\">Facebook</td>\n",
    "<td style=\"text-align:center\">4039</td>\n",
    "<td style=\"text-align:center\"><b style=\"color:red;\">(d)</b></td>\n",
    "<td style=\"text-align:center\">1.00</tr>\n",
    "</tr>\n",
    "<tr>\n",
    "<td style=\"text-align:left\">Power grid</td>\n",
    "<td style=\"text-align:center\">4941</td>\n",
    "<td style=\"text-align:center\">6594</td>\n",
    "<td style=\"text-align:center\"><b style=\"color:red;\">(e)</b></tr>\n",
    "</tr>\n",
    "<tr>\n",
    "<td style=\"text-align:left\">fMRI network</td>\n",
    "<td style=\"text-align:center\"><b style=\"color:red;\">(f)</b></td>\n",
    "<td style=\"text-align:center\"><b style=\"color:red;\">(g)</b></td>\n",
    "<td style=\"text-align:center\">1.00</tr>\n",
    "</tr>\n",
    "</table>"
   ]
  },
  {
   "cell_type": "markdown",
   "metadata": {},
   "source": [
    "* Metrics\n",
    "   * Size metrics (nodes, edges)\n",
    "   * Giant component\n",
    "   * Connectivity metrics (degree, assortativity)\n",
    "      * Scale-free\n",
    "   * Distance metrics (path lengths, diameter)\n",
    "   * Clustering metrics (clustering coefficient)\n",
    "   * Small-world\n",
    "* Random deletion vs targeted attack\n"
   ]
  },
  {
   "cell_type": "code",
   "execution_count": null,
   "metadata": {
    "collapsed": true
   },
   "outputs": [],
   "source": []
  }
 ],
 "metadata": {
  "kernelspec": {
   "display_name": "Python 3",
   "language": "python",
   "name": "python3"
  },
  "language_info": {
   "codemirror_mode": {
    "name": "ipython",
    "version": 3
   },
   "file_extension": ".py",
   "mimetype": "text/x-python",
   "name": "python",
   "nbconvert_exporter": "python",
   "pygments_lexer": "ipython3",
   "version": "3.4.5"
  }
 },
 "nbformat": 4,
 "nbformat_minor": 2
}
